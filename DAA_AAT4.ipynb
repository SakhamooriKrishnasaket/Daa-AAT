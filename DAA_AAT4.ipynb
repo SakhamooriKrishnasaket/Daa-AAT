{
  "nbformat": 4,
  "nbformat_minor": 0,
  "metadata": {
    "colab": {
      "provenance": []
    },
    "kernelspec": {
      "name": "python3",
      "display_name": "Python 3"
    },
    "language_info": {
      "name": "python"
    }
  },
  "cells": [
    {
      "cell_type": "code",
      "source": [
        "import sys\n",
        "\n",
        "def stringConstruction(s):\n",
        "    return len(set(s))\n",
        "q = int(input().strip())\n",
        "for a0 in range(q):\n",
        "    s = input().strip()\n",
        "    result = stringConstruction(s)\n",
        "    print(result)"
      ],
      "metadata": {
        "id": "tMbakIXDW2Yo"
      },
      "execution_count": null,
      "outputs": []
    }
  ]
}